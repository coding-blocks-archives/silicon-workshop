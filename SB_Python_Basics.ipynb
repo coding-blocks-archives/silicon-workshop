{
  "nbformat": 4,
  "nbformat_minor": 0,
  "metadata": {
    "colab": {
      "name": "SB - Python Basics",
      "version": "0.3.2",
      "provenance": []
    },
    "kernelspec": {
      "name": "python3",
      "display_name": "Python 3"
    }
  },
  "cells": [
    {
      "cell_type": "code",
      "metadata": {
        "id": "DES1Co5vQ2OE",
        "colab_type": "code",
        "colab": {
          "base_uri": "https://localhost:8080/",
          "height": 35
        },
        "outputId": "6d981fa1-93a7-4b25-e7bf-ff4026ef5e01"
      },
      "source": [
        "print(\"Hello\") #Output - Shift + enter"
      ],
      "execution_count": 2,
      "outputs": [
        {
          "output_type": "stream",
          "text": [
            "Hello\n"
          ],
          "name": "stdout"
        }
      ]
    },
    {
      "cell_type": "code",
      "metadata": {
        "id": "WzA9bFc7RIHT",
        "colab_type": "code",
        "colab": {
          "base_uri": "https://localhost:8080/",
          "height": 35
        },
        "outputId": "9d09bfaf-20dd-40d6-d2f9-6131b84bf34a"
      },
      "source": [
        "a = 10\n",
        "b = 12\n",
        "print(a+b)"
      ],
      "execution_count": 3,
      "outputs": [
        {
          "output_type": "stream",
          "text": [
            "22\n"
          ],
          "name": "stdout"
        }
      ]
    },
    {
      "cell_type": "code",
      "metadata": {
        "id": "COEQAxIGRkpf",
        "colab_type": "code",
        "colab": {
          "base_uri": "https://localhost:8080/",
          "height": 53
        },
        "outputId": "1338da19-3810-4625-9e06-acdca5e053fe"
      },
      "source": [
        "name = input(\"Enter your Name\")\n",
        "print(name)"
      ],
      "execution_count": 5,
      "outputs": [
        {
          "output_type": "stream",
          "text": [
            "Enter your NamePrateek\n",
            "Prateek\n"
          ],
          "name": "stdout"
        }
      ]
    },
    {
      "cell_type": "code",
      "metadata": {
        "id": "crNS4fBaRnck",
        "colab_type": "code",
        "colab": {
          "base_uri": "https://localhost:8080/",
          "height": 53
        },
        "outputId": "cd100f20-cb3f-49ae-b41d-04c76521f105"
      },
      "source": [
        "s = \"Today is rainy day!\"\n",
        "print(s)\n",
        "print(len(s))"
      ],
      "execution_count": 6,
      "outputs": [
        {
          "output_type": "stream",
          "text": [
            "Today is rainy day!\n",
            "19\n"
          ],
          "name": "stdout"
        }
      ]
    },
    {
      "cell_type": "code",
      "metadata": {
        "id": "lJg2TvIqSPxV",
        "colab_type": "code",
        "colab": {
          "base_uri": "https://localhost:8080/",
          "height": 71
        },
        "outputId": "7313cde7-5176-4bae-9c99-95f6d65c8f4e"
      },
      "source": [
        "words = s.split()\n",
        "print(words)\n",
        "print(type(s))\n",
        "print(type(words))"
      ],
      "execution_count": 10,
      "outputs": [
        {
          "output_type": "stream",
          "text": [
            "['Today', 'is', 'rainy', 'day!']\n",
            "<class 'str'>\n",
            "<class 'list'>\n"
          ],
          "name": "stdout"
        }
      ]
    },
    {
      "cell_type": "code",
      "metadata": {
        "id": "4-vq_zYvSSuZ",
        "colab_type": "code",
        "colab": {
          "base_uri": "https://localhost:8080/",
          "height": 35
        },
        "outputId": "2e42568b-4c61-40bb-f8e8-521453f24d69"
      },
      "source": [
        "print(len(words))"
      ],
      "execution_count": 11,
      "outputs": [
        {
          "output_type": "stream",
          "text": [
            "4\n"
          ],
          "name": "stdout"
        }
      ]
    },
    {
      "cell_type": "code",
      "metadata": {
        "id": "-rD2tj2aSjUE",
        "colab_type": "code",
        "colab": {
          "base_uri": "https://localhost:8080/",
          "height": 35
        },
        "outputId": "c9165c49-8c2a-4737-b22f-3b441a276e64"
      },
      "source": [
        "words[0]"
      ],
      "execution_count": 12,
      "outputs": [
        {
          "output_type": "execute_result",
          "data": {
            "text/plain": [
              "'Today'"
            ]
          },
          "metadata": {
            "tags": []
          },
          "execution_count": 12
        }
      ]
    },
    {
      "cell_type": "code",
      "metadata": {
        "id": "tLynGyl6Sl47",
        "colab_type": "code",
        "colab": {
          "base_uri": "https://localhost:8080/",
          "height": 35
        },
        "outputId": "b869eae4-c629-4221-a624-e5f433a95034"
      },
      "source": [
        "words[1:3] #Slicing l[s:e+1]"
      ],
      "execution_count": 13,
      "outputs": [
        {
          "output_type": "execute_result",
          "data": {
            "text/plain": [
              "['is', 'rainy']"
            ]
          },
          "metadata": {
            "tags": []
          },
          "execution_count": 13
        }
      ]
    },
    {
      "cell_type": "code",
      "metadata": {
        "id": "k50itIibSrjH",
        "colab_type": "code",
        "colab": {
          "base_uri": "https://localhost:8080/",
          "height": 71
        },
        "outputId": "4534d5c3-d741-4d9c-963a-bff45f094736"
      },
      "source": [
        "# Loop in Python\n",
        "for i in range(6,0,-2):\n",
        "    print(i)"
      ],
      "execution_count": 17,
      "outputs": [
        {
          "output_type": "stream",
          "text": [
            "6\n",
            "4\n",
            "2\n"
          ],
          "name": "stdout"
        }
      ]
    },
    {
      "cell_type": "code",
      "metadata": {
        "id": "oQtxKA8_S-ud",
        "colab_type": "code",
        "colab": {
          "base_uri": "https://localhost:8080/",
          "height": 35
        },
        "outputId": "ea1fcf0a-5240-45cd-c223-e44ea1c53ed5"
      },
      "source": [
        "l = [1,2,3]\n",
        "l.insert(2,10)\n",
        "print(l)"
      ],
      "execution_count": 22,
      "outputs": [
        {
          "output_type": "stream",
          "text": [
            "[1, 2, 10, 3]\n"
          ],
          "name": "stdout"
        }
      ]
    },
    {
      "cell_type": "code",
      "metadata": {
        "id": "yxHCg_Y9TX30",
        "colab_type": "code",
        "colab": {
          "base_uri": "https://localhost:8080/",
          "height": 53
        },
        "outputId": "231252f2-1580-476c-9d43-c2f3a32219c0"
      },
      "source": [
        "l.append(6)\n",
        "print(l)\n",
        "\n",
        "l.sort()\n",
        "print(l)"
      ],
      "execution_count": 27,
      "outputs": [
        {
          "output_type": "stream",
          "text": [
            "[1, 2, 10, 3, 6, 6]\n",
            "[1, 2, 3, 6, 6, 10]\n"
          ],
          "name": "stdout"
        }
      ]
    },
    {
      "cell_type": "code",
      "metadata": {
        "id": "MMlZiKUfT3tl",
        "colab_type": "code",
        "colab": {
          "base_uri": "https://localhost:8080/",
          "height": 35
        },
        "outputId": "50c28fe0-028d-48d9-967d-65727b2a3adb"
      },
      "source": [
        "# Python - Lists, Tuple, Dictionary\n",
        "t = (1,2,3,4)\n",
        "print(t)"
      ],
      "execution_count": 26,
      "outputs": [
        {
          "output_type": "stream",
          "text": [
            "(1, 2, 3, 4)\n"
          ],
          "name": "stdout"
        }
      ]
    },
    {
      "cell_type": "code",
      "metadata": {
        "id": "EFTeiWcSUJau",
        "colab_type": "code",
        "colab": {}
      },
      "source": [
        "# Dictionary\n",
        "price_menu = {\n",
        "       'ice_cream': 5,\n",
        "        'cornflakes':6,\n",
        "        'milk': 20,\n",
        "}"
      ],
      "execution_count": 0,
      "outputs": []
    },
    {
      "cell_type": "code",
      "metadata": {
        "id": "QdaGjs-LUvDU",
        "colab_type": "code",
        "colab": {
          "base_uri": "https://localhost:8080/",
          "height": 35
        },
        "outputId": "efe05be0-1352-4bca-eec9-46c3244ca1cc"
      },
      "source": [
        "price_menu['milk']"
      ],
      "execution_count": 31,
      "outputs": [
        {
          "output_type": "execute_result",
          "data": {
            "text/plain": [
              "20"
            ]
          },
          "metadata": {
            "tags": []
          },
          "execution_count": 31
        }
      ]
    },
    {
      "cell_type": "code",
      "metadata": {
        "id": "v1U0g-43U0Ch",
        "colab_type": "code",
        "colab": {
          "base_uri": "https://localhost:8080/",
          "height": 35
        },
        "outputId": "17c8fc35-fdc7-4e6e-ee29-ea67a7c66bfd"
      },
      "source": [
        "if price_menu.get(\"juice\") is None:\n",
        "    print(\"Juice is not avbl\")\n",
        "else:\n",
        "    print(price_menu.get(\"juice\"))"
      ],
      "execution_count": 33,
      "outputs": [
        {
          "output_type": "stream",
          "text": [
            "Juice is not avbl\n"
          ],
          "name": "stdout"
        }
      ]
    },
    {
      "cell_type": "code",
      "metadata": {
        "id": "rcojQsKGVI8U",
        "colab_type": "code",
        "colab": {}
      },
      "source": [
        "def fact(n,a,b):\n",
        "    ans = 1\n",
        "    for i in range(1,n+1):\n",
        "        ans = ans*i\n",
        "        \n",
        "    return ans\n",
        "    "
      ],
      "execution_count": 0,
      "outputs": []
    },
    {
      "cell_type": "code",
      "metadata": {
        "id": "Tm_QsdsGVa5r",
        "colab_type": "code",
        "colab": {
          "base_uri": "https://localhost:8080/",
          "height": 35
        },
        "outputId": "042700b7-84b1-42c9-daa0-0d1599c0f88b"
      },
      "source": [
        "fact(5)"
      ],
      "execution_count": 35,
      "outputs": [
        {
          "output_type": "execute_result",
          "data": {
            "text/plain": [
              "120"
            ]
          },
          "metadata": {
            "tags": []
          },
          "execution_count": 35
        }
      ]
    },
    {
      "cell_type": "code",
      "metadata": {
        "id": "0tZ5No1cVcaF",
        "colab_type": "code",
        "colab": {}
      },
      "source": [
        "def stars(n):\n",
        "    for i in range(1,n+1):\n",
        "        print(\"*\"*i,end='\\n')"
      ],
      "execution_count": 0,
      "outputs": []
    },
    {
      "cell_type": "code",
      "metadata": {
        "id": "3vwmW9lyVwMf",
        "colab_type": "code",
        "colab": {
          "base_uri": "https://localhost:8080/",
          "height": 107
        },
        "outputId": "08c277dc-ccf0-4a09-d222-25f6832f0b67"
      },
      "source": [
        "stars(5)"
      ],
      "execution_count": 45,
      "outputs": [
        {
          "output_type": "stream",
          "text": [
            "*\n",
            "**\n",
            "***\n",
            "****\n",
            "*****\n"
          ],
          "name": "stdout"
        }
      ]
    },
    {
      "cell_type": "code",
      "metadata": {
        "id": "g6XUedMRWg3d",
        "colab_type": "code",
        "colab": {}
      },
      "source": [
        ""
      ],
      "execution_count": 0,
      "outputs": []
    }
  ]
}